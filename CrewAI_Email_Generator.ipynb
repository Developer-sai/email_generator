{
  "nbformat": 4,
  "nbformat_minor": 0,
  "metadata": {
    "colab": {
      "provenance": []
    },
    "kernelspec": {
      "name": "python3",
      "display_name": "Python 3"
    },
    "language_info": {
      "name": "python"
    }
  },
  "cells": [
    {
      "cell_type": "code",
      "source": [
        "!pip install langchain openai crewai"
      ],
      "metadata": {
        "id": "P3b7Xs4Q1v_h"
      },
      "execution_count": null,
      "outputs": []
    },
    {
      "cell_type": "code",
      "source": [
        "import json\n",
        "\n",
        "sample_data = {\n",
        "    \"lead\": {\n",
        "        \"name\": \"Jane Doe\",\n",
        "        \"job_title\": \"VP, Sales\",\n",
        "        \"company\": \"TechNova\",\n",
        "        \"interests\": [\"B2B sales automation\", \"customer engagement\", \"AI solutions\"]\n",
        "    },\n",
        "    \"product\": {\n",
        "        \"name\": \"SalesPilot AI\",\n",
        "        \"value_props\": [\n",
        "            \"automates cold email outreach\",\n",
        "            \"personalizes messages using AI\",\n",
        "            \"integrates seamlessly with CRM\"\n",
        "        ],\n",
        "        \"website\": \"https://salespilot.example.com\"\n",
        "    }\n",
        "}\n",
        "\n",
        "# Save to JSON file\n",
        "with open(\"lead_and_product.json\", \"w\") as f:\n",
        "    json.dump(sample_data, f, indent=2)"
      ],
      "metadata": {
        "id": "82-FS62x1zA8"
      },
      "execution_count": null,
      "outputs": []
    },
    {
      "cell_type": "code",
      "source": [
        "# data_handler.py (can be made its own .py file if running locally)\n",
        "import json\n",
        "\n",
        "def load_data(json_path=\"lead_and_product.json\"):\n",
        "    with open(json_path, \"r\") as f:\n",
        "        return json.load(f)\n",
        "\n",
        "data = load_data()\n",
        "print(data)"
      ],
      "metadata": {
        "id": "Fjb9YQbM11Rx"
      },
      "execution_count": null,
      "outputs": []
    },
    {
      "cell_type": "code",
      "source": [
        "import os\n",
        "os.environ[\"OPENAI_API_KEY\"] = \"YOUR_OPENAI_API_KEY\"  # Paste your key here for Colab testing.\n",
        "\n",
        "from langchain_openai import ChatOpenAI\n",
        "\n",
        "llm = ChatOpenAI(temperature=0.7, model_name=\"gpt-3.5-turbo\") # or \"gpt-4\" if available"
      ],
      "metadata": {
        "id": "edBWcCvq12NO"
      },
      "execution_count": null,
      "outputs": []
    },
    {
      "cell_type": "code",
      "source": [
        "def email_generation_prompt(lead, product):\n",
        "    return f\"\"\"\n",
        "You are an expert SDR. Given the following lead and product info, generate:\n",
        "1. A compelling email subject (brief).\n",
        "2. A personalized email body (no more than 120 words, conversational, referencing the lead's role/interests and the product's value).\n",
        "\n",
        "Lead:\n",
        "- Name: {lead[\"name\"]}\n",
        "- Job Title: {lead[\"job_title\"]} at {lead[\"company\"]}\n",
        "- Interests: {', '.join(lead['interests'])}\n",
        "\n",
        "Product:\n",
        "- Name: {product[\"name\"]}\n",
        "- Value Propositions: {', '.join(product['value_props'])}\n",
        "- Website: {product['website']}\n",
        "\n",
        "Return JSON:\n",
        "{{ \"subject\": \"...\", \"body\": \"...\" }}\n",
        "    \"\"\"\n",
        "\n",
        "def generate_email(llm, lead, product):\n",
        "    prompt = email_generation_prompt(lead, product)\n",
        "    resp = llm.invoke(prompt)\n",
        "    try:\n",
        "        # Extract JSON from LLM output (if proper JSON, else fallback)\n",
        "        import re\n",
        "        import json\n",
        "        match = re.search(r\"\\{.*\\}\", resp.content, re.DOTALL)\n",
        "        if match:\n",
        "            return json.loads(match.group())\n",
        "        else:\n",
        "            return {\"subject\":\"Parsing failed\", \"body\": resp.content}\n",
        "    except Exception as e:\n",
        "        return {\"subject\": \"Error\", \"body\": str(e)}"
      ],
      "metadata": {
        "id": "_HbSXeq213V0"
      },
      "execution_count": null,
      "outputs": []
    },
    {
      "cell_type": "code",
      "source": [
        "from crewai import Agent, Task, Crew\n",
        "\n",
        "# Agent that does the reasoning and triggers LLM via the modular function\n",
        "class EmailReasoningAgent(Agent):\n",
        "    def run(self, data, llm):\n",
        "        lead = data[\"lead\"]\n",
        "        product = data[\"product\"]\n",
        "        return generate_email(llm, lead, product)\n",
        "\n",
        "# Define the agent\n",
        "email_agent = EmailReasoningAgent(name=\"Email Reasoning Agent\")\n",
        "\n",
        "# Define a task for the agent to execute\n",
        "def email_task(agent, data, llm):\n",
        "    return agent.run(data, llm)\n",
        "\n",
        "# Orchestrate with CrewAI \"Crew\"\n",
        "crew = Crew(agents=[email_agent])"
      ],
      "metadata": {
        "id": "SG-8DKYg14Xk"
      },
      "execution_count": null,
      "outputs": []
    },
    {
      "cell_type": "code",
      "source": [
        "# Load data\n",
        "data = load_data(\"lead_and_product.json\")\n",
        "\n",
        "# Run the agent and get the email content\n",
        "result = email_task(email_agent, data, llm)\n",
        "\n",
        "print(\"=== Email Suggestion ===\")\n",
        "print(\"Subject:\", result['subject'])\n",
        "print(\"\\nBody:\\n\", result['body'])"
      ],
      "metadata": {
        "id": "awIpIyde15Xw"
      },
      "execution_count": null,
      "outputs": []
    },
    {
      "cell_type": "code",
      "source": [
        "# Dockerfile\n",
        "\n",
        "FROM python:3.11\n",
        "\n",
        "WORKDIR /app\n",
        "\n",
        "# Install dependencies\n",
        "COPY requirements.txt .\n",
        "RUN pip install --no-cache-dir -r requirements.txt\n",
        "\n",
        "# Copy source files\n",
        "COPY . .\n",
        "\n",
        "CMD [\"python\", \"main.py\"]"
      ],
      "metadata": {
        "id": "5qQgkhSK16eu"
      },
      "execution_count": null,
      "outputs": []
    },
    {
      "cell_type": "code",
      "source": [
        "langchain\n",
        "openai\n",
        "crewai"
      ],
      "metadata": {
        "id": "atcG6lQI17si"
      },
      "execution_count": null,
      "outputs": []
    }
  ]
}